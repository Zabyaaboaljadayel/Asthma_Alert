{
 "cells": [
  {
   "cell_type": "code",
   "execution_count": 84,
   "id": "466c90a4",
   "metadata": {},
   "outputs": [],
   "source": [
    "import requests\n",
    "from bs4 import BeautifulSoup\n",
    "import pandas as pd"
   ]
  },
  {
   "cell_type": "code",
   "execution_count": 88,
   "id": "a7aaa453",
   "metadata": {},
   "outputs": [],
   "source": [
    "dateList = []\n",
    "pollenIntensity = []\n",
    "pollenTypeList = []"
   ]
  },
  {
   "cell_type": "code",
   "execution_count": 89,
   "id": "2b33f8c1",
   "metadata": {},
   "outputs": [],
   "source": [
    "baselink = \"https://www.rpaerobiologia.com/boletim-polinico/arquivo/2019/edicao-\"\n",
    "baseYear = 2019\n",
    "boletimNumber = 25\n",
    "k = 0\n",
    "for year in range(4):\n",
    "    if year == 1:\n",
    "        continue\n",
    "    for boletim in range(boletimNumber):\n",
    "        link = baselink.replace('2019', str(baseYear + year)).replace('edicao-', 'edicao-' + str(boletim + 1))\n",
    "#         print(link, baselink)\n",
    "#         break\n",
    "        if '200' in str(requests.get(link)):\n",
    "            k += 1\n",
    "#             print('Eureka!', k)\n",
    "        else:\n",
    "            continue\n",
    "        f = requests.get(link)\n",
    "        doc = f.text\n",
    "        # Initialize the object with the document\n",
    "        soup = BeautifulSoup(doc, \"html.parser\")\n",
    "\n",
    "        # Get the whole body tag\n",
    "        tag = soup.body\n",
    "#         print(tag.find_all('strong')[0].text)\n",
    "        if tag.find_all('strong')[0].text == '1. Responsável pelo tratamento dos dados pessoais':\n",
    "            \n",
    "#             print('we are here')\n",
    "            \n",
    "            continue\n",
    "        dateList.append(tag.find_all('strong')[0].text)\n",
    "        for par in tag.find_all('p'):\n",
    "        #     print(par)\n",
    "            if 'região de Lisboa e Setúbal' in par.text:\n",
    "\n",
    "#                 print(par.find_all('strong'))\n",
    "                pollenIntensity.append(par.find_all('strong')[1].text)\n",
    "                text = ''\n",
    "                for i in range(2, len(par.find_all('strong'))):\n",
    "                    text += str(par.find_all('strong')[i].text) + '/'\n",
    "                pollenTypeList.append(text)\n",
    "\n",
    "# print(dateList)\n",
    "# print(pollenIntensity)\n",
    "# print(pollenTypeList)"
   ]
  },
  {
   "cell_type": "code",
   "execution_count": 97,
   "id": "775294ba",
   "metadata": {},
   "outputs": [
    {
     "data": {
      "text/plain": [
       "'azinheira  outros carvalhos, plátano, pinheiro cipreste,urtiga parietária.'"
      ]
     },
     "execution_count": 97,
     "metadata": {},
     "output_type": "execute_result"
    }
   ],
   "source": [
    "pd.DataFrame([dateList, pollenIntensity,pollenTypeList])\n",
    "df.columns=['date', 'pollen_intensity', 'pollen_source_type']\n",
    "df['pollen_source_type'][2]"
   ]
  },
  {
   "cell_type": "code",
   "execution_count": 91,
   "id": "c986c9b6",
   "metadata": {},
   "outputs": [],
   "source": [
    "# # link = \"https://www.rpaerobiologia.com/boletim-polinico/arquivo/2019/edicao-13\"\n",
    "# f = requests.get(link)\n",
    "# # print(f.text)\n",
    "# # # type(f.text)\n",
    "# doc = f.text\n",
    "# # Initialize the object with the document\n",
    "# soup = BeautifulSoup(doc, \"html.parser\")\n",
    " \n",
    "# # Get the whole body tag\n",
    "# tag = soup.body\n",
    "\n",
    "# dateList.append(tag.find_all('strong')[0].text)\n",
    "# for par in tag.find_all('p'):\n",
    "# #     print(par)\n",
    "#     if 'região de Lisboa e Setúbal' in par.text:\n",
    "        \n",
    "#         print(par.find_all('strong'))\n",
    "#         pollenIntensity.append(par.find_all('strong')[1].text)\n",
    "#         for i in range(2, len(par.find_all('strong'))):\n",
    "#             pollenTypeList.append(par.find_all('strong')[i].text)\n",
    "        \n",
    "# #     if par.find_all('p'):\n",
    "# #         print(par.text)\n",
    "# #         break\n",
    "# # tag.find_all('strong')"
   ]
  },
  {
   "cell_type": "code",
   "execution_count": 92,
   "id": "ad00b3e5",
   "metadata": {},
   "outputs": [
    {
     "name": "stdout",
     "output_type": "stream",
     "text": [
      "[' 22 a 28 de Março de 2019', ' 29 de Março a 4 de Abril de 2019', ' 5 a 11 de Abril de 2019', ' 12 a 18 de Abril de 2019', ' 19 a 25 de Abril de 2019', ' 26 de Abril a 2 de Maio de 2019', ' 3 a 9 de Maio de 2019.', ' 10 a 16 de Maio de 2019.', ' 17 a 23 de Maio de 2019.', ' 24 a 30 de Maio de 2019', ' 31 de Maio a 6 de Junho de 2019', ' 7 a 13 de Junho de 2019', ' 14 a 20 de Junho de 2019.', ' 21 a 27 de Junho de 2019.', 'região de Trás-Os-Montes e Alto Douro', ' 19 a 25 de Março de 2021', ' 26 de Março a 1 de Abril de 2021', ' 2 a 8 de Abril de 2021', ' 9 a 15 de Abril de 2021.', ' 16 a 22 de Abril de 2021.', ' 23 a 29 de Abril de 2021.', ' 30 de Abril a 6 de Maio de 2021', ' 7 a 13 de Maio de 2021', ' 14 a 20 de Maio de 2021', ' 21 a 27 de Maio de 2021', ' 28 de Maio a 3 de Junho de 2021', ' 4 a 10 de Junho de 2021', ' 11 a 17 de Junho de 2021', ' 18 a 24 de Junho de 2021', ' 25 de Junho a 1 de Julho de 2021', ' 2 a 8 de Julho de 2021', ' 9 a 15 de Julho de 2021', ' 16 a 22 de Julho de 2021', ' 23 a 29 de Julho de 2021', ' 18 a 24 de Março de 2022', 'Vila-Real (região de Trás-Os-Montes e Alto Douro)', 'região de Trás-Os-Montes e Alto Douro', ' 8 a 14 de Abril de 2022', ' 15 a 21 de Abril de 2022', ' 22 a 28 de Abril de 2022', ' 29 de Abril a 5 de Maio de 2022', ' 6 a 12 de Maio de 2022', ' 13 a 19 de Maio de 2022', ' 20 a 26 de Maio de 2022', ' 27 de maio a 2 de junho de 2022', ' 3 a 9 de Junho de 2022', ' 10 a 16 de Junho de 2022', ' 17 a 23 de Junho de 2022', ' 24 a 30 de Junho de 2022', ' 1 a 7 de Julho de 2022', ' 8 a 14 de Julho de 2022']\n",
      "['muito ele', 'muito ele', 'baixos', 'muito elevados', 'elevados', 'elevados', 'muito elevados', 'muito elevados', 'muito elevados', 'muito elevados', 'muito elevados', 'muito elevados', 'elevados', 'elevados', 'baixos', 'baixos', 'muito ele', 'muito ele', 'muito ele', 'ele', 'muito ele', 'ele', 'muito ele', 'muito ele', 'muito ele', 'muito ele', 'muito ele', 'muito ele', 'muito ele', 'muito ele', 'muito', 'muito', 'muito', 'ele', 'baixos', 'muito elevados', 'muito elevados', 'muito elevados', 'muito elevados', 'muito elevados', 'muito elevados', 'muito elevados', 'muito elevados', 'muito elevados', 'muito elevados', 'muito elevados', 'muito elevados', 'muito elevados', 'muito elevados', 'moderados', 'moderados', 'baixos']\n",
      "['adosplátano, azinheira  outros carvalhos  cipreste,urtiga parietária.', 'adosazinheira  outros carvalhos, plátano  pinheiro,urtiga parietária.', 'azinheira  outros carvalhos, plátano, pinheiro cipreste,urtiga parietária.', 'azinheira  outros carvalhos, oliveira, plátano  pinheiro, urtiga,parietária tanchagem.', 'azinheira  outros carvalhos, oliveira  pinheiro, urtiga,parietária, gramíneas tanchagem.', 'oliveira, azinheira  outros carvalhos  pinheiro, parietária, gramíneas,tanchagem, urtiga  quenopódio.', 'oliveira, sobreiro  outros carvalhos, parietária, urtiga, gramíneas,tanchagem  quenopódio.', 'oliveira, sobreiro  outros carvalhos, gramíneas,parietária, urtiga, tanchagem  quenopódio.', 'oliveira, sobreiro  outros carvalhos, gramíneas,parietária, tanchagem, azeda, urtiga  quenopódio.', 'oliveira, sobreiro  outros carvalhos, gramíneas,parietária, tanchagem, quenopódio, azeda  urtiga.', 'oliveira  carvalhos, gramíneas parietária.', 'oliveira  carvalhos, gramíneas parietária.', 'gramíneas parietária, castanheiro', 'gramíneas parietária', 'gramíneas parietária  quenopódioeucalipto', 'gramíneas parietária  quenopódioeucalipto', 'adosplátano, cipreste,azinheira  outros carvalhos, cedros e pinheiros urtiga parietária.', 'adosplátano, azinheira  outros carvalhos, cipreste,cedros e pinheiros urtiga parietária.', 'adosazinheira  outros carvalhos, pinheiros, plátano  cipreste, urtiga parietária.', 'adosazinheira  outros carvalhos, oliveira pinheiros, urtiga parietária.', 'adosoliveira,azinheira, outros carvalhos urtigapinheiro parietária.', 'adosoliveira,azinheira, outros carvalhos pinheiros,urtigaparietária.', 'adosoliveira sobreiroparietária  gramíneas tanchagem quenopódio  urtigas', 'adosoliveira sobreirogramíneas,parietária, tanchagem urtiga quenopódio', 'adosoliveira sobreirogramíneas,parietária, tanchagem urtiga quenopódio', 'adosgramíneas,parietária  tanchagemoliveirasobreiro  urtiga,quenopódio azeda', 'adosgramíneas parietária oliveirasobreiro  urtiga quenopódio', 'adosgramíneas parietária oliveirasobreiro  urtiga quenopódio', 'adosgramíneas parietáriaoliveira eucaliptoquenopódio', 'adosgramíneas parietária', 'eleadosgramíneas parietária', 'eleadosgramíneas parietária', 'eleadosgramíneas parietária', 'adosgramíneas parietária', 'gramíneas,parietária quenopódio  eucalipto', 'plátano,azinheira, cipreste, cedro  pinheiro,urtiga parietária.', 'plátano,carvalhos, cipreste  pinheiro,urtiga parietária.', 'carvalhos, pinheiroplátano,urtiga,parietária azeda.', 'carvalho urtiga,  oliveira, pinheiroplátano,parietária.', 'carvalho urtiga,  oliveira  pinheiroparietária.', 'carvalho, oliveira urtiga, parietária, gramíneasquenopódio pinheiro.', 'oliveira carvalhos, urtiga, parietária, gramíneas, tanchagemquenopódio.', 'oliveira carvalhos, urtiga, parietária, gramíneas, tanchagemquenopódio.', 'oliveira carvalhos, gramíneas, parietária, urtiga, tanchagemquenopódio.', 'oliveira carvalhos, gramíneas, parietária, tanchagemquenopódio.', 'oliveira carvalhos, gramíneas, parietária, tanchagemquenopódio.', 'oliveira carvalhos, gramíneas  parietária.', 'gramíneas  parietária, oliveira, carvalhoseucalipto.', 'gramíneas  parietária, eucalipto.', 'gramíneas  parietária, eucalipto.', 'gramíneas  parietária, eucalipto.', 'gramíneas  parietária, eucalipto.']\n"
     ]
    }
   ],
   "source": [
    "print(dateList)\n",
    "print(pollenIntensity)\n",
    "print(pollenTypeList)"
   ]
  },
  {
   "cell_type": "code",
   "execution_count": null,
   "id": "5f7814a5",
   "metadata": {},
   "outputs": [],
   "source": []
  }
 ],
 "metadata": {
  "kernelspec": {
   "display_name": "Python 3 (ipykernel)",
   "language": "python",
   "name": "python3"
  },
  "language_info": {
   "codemirror_mode": {
    "name": "ipython",
    "version": 3
   },
   "file_extension": ".py",
   "mimetype": "text/x-python",
   "name": "python",
   "nbconvert_exporter": "python",
   "pygments_lexer": "ipython3",
   "version": "3.8.10"
  }
 },
 "nbformat": 4,
 "nbformat_minor": 5
}
