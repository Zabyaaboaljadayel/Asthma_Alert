{
 "cells": [
  {
   "cell_type": "code",
   "execution_count": 17,
   "id": "d45d2469",
   "metadata": {},
   "outputs": [],
   "source": [
    "import requests\n",
    "from bs4 import BeautifulSoup\n",
    "\n"
   ]
  },
  {
   "cell_type": "code",
   "execution_count": 43,
   "id": "38e70f13",
   "metadata": {},
   "outputs": [],
   "source": [
    "dateList = []\n",
    "pollenIntensity = []\n",
    "pollenTypeList = []"
   ]
  },
  {
   "cell_type": "code",
   "execution_count": 60,
   "id": "14bf6384",
   "metadata": {},
   "outputs": [
    {
     "name": "stdout",
     "output_type": "stream",
     "text": [
      "https://www.rpaerobiologia.com/boletim-polinico/arquivo/2019/edicao-1 https://www.rpaerobiologia.com/boletim-polinico/arquivo/2019/edicao-\n",
      "https://www.rpaerobiologia.com/boletim-polinico/arquivo/2021/edicao-1 https://www.rpaerobiologia.com/boletim-polinico/arquivo/2019/edicao-\n",
      "https://www.rpaerobiologia.com/boletim-polinico/arquivo/2022/edicao-1 https://www.rpaerobiologia.com/boletim-polinico/arquivo/2019/edicao-\n"
     ]
    }
   ],
   "source": [
    "baselink = \"https://www.rpaerobiologia.com/boletim-polinico/arquivo/2019/edicao-\"\n",
    "baseYear = 2019\n",
    "boletimNumber = 25\n",
    "k = 0\n",
    "for year in range(4):\n",
    "    if year == 1:\n",
    "        continue\n",
    "    for boletim in range( boletimNumber):\n",
    "        link = baselink.replace('2019', str(baseYear + year)).replace('edicao-', 'edicao-' + str(boletim + 1))\n",
    "        print(link, baselink)\n",
    "        break\n",
    "        if '200' in str(requests.get(link)):\n",
    "            k += 1\n",
    "            print('Eureka!', k)\n",
    "    "
   ]
  },
  {
   "cell_type": "code",
   "execution_count": 55,
   "id": "b8dd58f3",
   "metadata": {},
   "outputs": [
    {
     "data": {
      "text/plain": [
       "True"
      ]
     },
     "execution_count": 55,
     "metadata": {},
     "output_type": "execute_result"
    }
   ],
   "source": [
    "# f = requests.get('https://www.rpaerobiologia.com/boletim-polinico/arquivo/2019/edicao-5000')\n",
    "# '200' in str(f)"
   ]
  },
  {
   "cell_type": "code",
   "execution_count": 44,
   "id": "2fa1e917",
   "metadata": {},
   "outputs": [
    {
     "name": "stdout",
     "output_type": "stream",
     "text": [
      "[<strong>região de Lisboa e Setúbal</strong>, <strong>elevados</strong>, <strong>gramíneas </strong>, <strong>parietária, </strong>, <strong>castanheiro</strong>]\n"
     ]
    }
   ],
   "source": [
    "link = \"https://www.rpaerobiologia.com/boletim-polinico/arquivo/2019/edicao-13\"\n",
    "f = requests.get(link)\n",
    "# print(f.text)\n",
    "# # type(f.text)\n",
    "doc = f.text\n",
    "# Initialize the object with the document\n",
    "soup = BeautifulSoup(doc, \"html.parser\")\n",
    " \n",
    "# Get the whole body tag\n",
    "tag = soup.body\n",
    "\n",
    "dateList.append(tag.find_all('strong')[0].text)\n",
    "for par in tag.find_all('p'):\n",
    "#     print(par)\n",
    "    if 'região de Lisboa e Setúbal' in par.text:\n",
    "        \n",
    "        print(par.find_all('strong'))\n",
    "        pollenIntensity.append(par.find_all('strong')[1].text)\n",
    "        for i in range(2, len(par.find_all('strong'))):\n",
    "            pollenTypeList.append(par.find_all('strong')[i].text)\n",
    "        \n",
    "#     if par.find_all('p'):\n",
    "#         print(par.text)\n",
    "#         break\n",
    "# tag.find_all('strong')"
   ]
  },
  {
   "cell_type": "code",
   "execution_count": 45,
   "id": "6ed2bdb2",
   "metadata": {},
   "outputs": [
    {
     "name": "stdout",
     "output_type": "stream",
     "text": [
      "[' 14 a 20 de Junho de 2019.']\n",
      "['elevados']\n",
      "['gramíneas ', 'parietária, ', 'castanheiro']\n"
     ]
    }
   ],
   "source": [
    "print(dateList)\n",
    "print(pollenIntensity)\n",
    "print(pollenTypeList)"
   ]
  },
  {
   "cell_type": "code",
   "execution_count": null,
   "id": "c8df86ef",
   "metadata": {},
   "outputs": [],
   "source": []
  }
 ],
 "metadata": {
  "kernelspec": {
   "display_name": "Python 3 (ipykernel)",
   "language": "python",
   "name": "python3"
  },
  "language_info": {
   "codemirror_mode": {
    "name": "ipython",
    "version": 3
   },
   "file_extension": ".py",
   "mimetype": "text/x-python",
   "name": "python",
   "nbconvert_exporter": "python",
   "pygments_lexer": "ipython3",
   "version": "3.8.10"
  }
 },
 "nbformat": 4,
 "nbformat_minor": 5
}
