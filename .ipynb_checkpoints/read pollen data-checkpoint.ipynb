{
 "cells": [
  {
   "cell_type": "code",
   "execution_count": 84,
   "id": "92e2e3ac",
   "metadata": {},
   "outputs": [],
   "source": [
    "import requests\n",
    "from bs4 import BeautifulSoup\n",
    "import pandas as pd"
   ]
  },
  {
   "cell_type": "code",
   "execution_count": 85,
   "id": "749b7bf3",
   "metadata": {},
   "outputs": [],
   "source": [
    "dateList = []\n",
    "pollenIntensity = []\n",
    "pollenTypeList = []"
   ]
  },
  {
   "cell_type": "code",
   "execution_count": null,
   "id": "a2cf5b32",
   "metadata": {},
   "outputs": [
    {
     "name": "stdout",
     "output_type": "stream",
     "text": [
      "Eureka! 1\n",
      "Eureka! 2\n",
      "Eureka! 3\n",
      "Eureka! 4\n",
      "Eureka! 5\n",
      "Eureka! 6\n",
      "Eureka! 7\n",
      "Eureka! 8\n",
      "Eureka! 9\n",
      "Eureka! 10\n",
      "Eureka! 11\n",
      "Eureka! 12\n",
      "Eureka! 13\n",
      "Eureka! 14\n",
      "Eureka! 15\n",
      "Eureka! 16\n",
      "Eureka! 17\n",
      "Eureka! 18\n",
      "Eureka! 19\n",
      "Eureka! 20\n",
      "Eureka! 21\n",
      "Eureka! 22\n",
      "Eureka! 23\n",
      "Eureka! 24\n",
      "Eureka! 25\n",
      "Eureka! 26\n",
      "Eureka! 27\n",
      "Eureka! 28\n",
      "Eureka! 29\n",
      "Eureka! 30\n",
      "Eureka! 31\n",
      "Eureka! 32\n",
      "Eureka! 33\n",
      "Eureka! 34\n",
      "Eureka! 35\n",
      "Eureka! 36\n",
      "Eureka! 37\n",
      "Eureka! 38\n",
      "Eureka! 39\n",
      "Eureka! 40\n",
      "Eureka! 41\n",
      "Eureka! 42\n",
      "Eureka! 43\n",
      "Eureka! 44\n",
      "Eureka! 45\n",
      "Eureka! 46\n",
      "Eureka! 47\n"
     ]
    }
   ],
   "source": [
    "baselink = \"https://www.rpaerobiologia.com/boletim-polinico/arquivo/2019/edicao-\"\n",
    "baseYear = 2019\n",
    "boletimNumber = 25\n",
    "k = 0\n",
    "for year in range(4):\n",
    "    if year == 1:\n",
    "        continue\n",
    "    for boletim in range(boletimNumber):\n",
    "        link = baselink.replace('2019', str(baseYear + year)).replace('edicao-', 'edicao-' + str(boletim + 1))\n",
    "#         print(link, baselink)\n",
    "#         break\n",
    "        if '200' in str(requests.get(link)):\n",
    "            k += 1\n",
    "#             print('Eureka!', k)\n",
    "        else:\n",
    "            continue\n",
    "        f = requests.get(link)\n",
    "        doc = f.text\n",
    "        # Initialize the object with the document\n",
    "        soup = BeautifulSoup(doc, \"html.parser\")\n",
    "\n",
    "        # Get the whole body tag\n",
    "        tag = soup.body\n",
    "#         print(tag.find_all('strong')[0].text)\n",
    "        if tag.find_all('strong')[0].text == '1. Responsável pelo tratamento dos dados pessoais':\n",
    "            \n",
    "#             print('we are here')\n",
    "            \n",
    "            continue\n",
    "        dateList.append(tag.find_all('strong')[0].text)\n",
    "        for par in tag.find_all('p'):\n",
    "        #     print(par)\n",
    "            if 'região de Lisboa e Setúbal' in par.text:\n",
    "\n",
    "#                 print(par.find_all('strong'))\n",
    "                pollenIntensity.append(par.find_all('strong')[1].text)\n",
    "                for i in range(2, len(par.find_all('strong'))):\n",
    "                    pollenTypeList.append(str(par.find_all('strong')[i].text))\n",
    "\n",
    "# print(dateList)\n",
    "# print(pollenIntensity)\n",
    "# print(pollenTypeList)"
   ]
  },
  {
   "cell_type": "code",
   "execution_count": null,
   "id": "3f49b9bd",
   "metadata": {},
   "outputs": [],
   "source": [
    "df = pd.DataFrame([dateList, pollenIntensity,pollenTypeList]).T\n",
    "df"
   ]
  },
  {
   "cell_type": "code",
   "execution_count": 44,
   "id": "6a80a23f",
   "metadata": {},
   "outputs": [
    {
     "name": "stdout",
     "output_type": "stream",
     "text": [
      "[<strong>região de Lisboa e Setúbal</strong>, <strong>elevados</strong>, <strong>gramíneas </strong>, <strong>parietária, </strong>, <strong>castanheiro</strong>]\n"
     ]
    }
   ],
   "source": [
    "# # link = \"https://www.rpaerobiologia.com/boletim-polinico/arquivo/2019/edicao-13\"\n",
    "# f = requests.get(link)\n",
    "# # print(f.text)\n",
    "# # # type(f.text)\n",
    "# doc = f.text\n",
    "# # Initialize the object with the document\n",
    "# soup = BeautifulSoup(doc, \"html.parser\")\n",
    " \n",
    "# # Get the whole body tag\n",
    "# tag = soup.body\n",
    "\n",
    "# dateList.append(tag.find_all('strong')[0].text)\n",
    "# for par in tag.find_all('p'):\n",
    "# #     print(par)\n",
    "#     if 'região de Lisboa e Setúbal' in par.text:\n",
    "        \n",
    "#         print(par.find_all('strong'))\n",
    "#         pollenIntensity.append(par.find_all('strong')[1].text)\n",
    "#         for i in range(2, len(par.find_all('strong'))):\n",
    "#             pollenTypeList.append(par.find_all('strong')[i].text)\n",
    "        \n",
    "# #     if par.find_all('p'):\n",
    "# #         print(par.text)\n",
    "# #         break\n",
    "# # tag.find_all('strong')"
   ]
  },
  {
   "cell_type": "code",
   "execution_count": 45,
   "id": "870b97cb",
   "metadata": {},
   "outputs": [
    {
     "name": "stdout",
     "output_type": "stream",
     "text": [
      "[' 14 a 20 de Junho de 2019.']\n",
      "['elevados']\n",
      "['gramíneas ', 'parietária, ', 'castanheiro']\n"
     ]
    }
   ],
   "source": [
    "print(dateList)\n",
    "print(pollenIntensity)\n",
    "print(pollenTypeList)"
   ]
  },
  {
   "cell_type": "code",
   "execution_count": null,
   "id": "c19f412f",
   "metadata": {},
   "outputs": [],
   "source": []
  }
 ],
 "metadata": {
  "kernelspec": {
   "display_name": "Python 3 (ipykernel)",
   "language": "python",
   "name": "python3"
  },
  "language_info": {
   "codemirror_mode": {
    "name": "ipython",
    "version": 3
   },
   "file_extension": ".py",
   "mimetype": "text/x-python",
   "name": "python",
   "nbconvert_exporter": "python",
   "pygments_lexer": "ipython3",
   "version": "3.8.10"
  }
 },
 "nbformat": 4,
 "nbformat_minor": 5
}
