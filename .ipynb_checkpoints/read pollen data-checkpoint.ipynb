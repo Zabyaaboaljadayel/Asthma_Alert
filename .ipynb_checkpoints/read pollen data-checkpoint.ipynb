{
 "cells": [
  {
   "cell_type": "code",
   "execution_count": 76,
   "id": "dc77099b",
   "metadata": {},
   "outputs": [],
   "source": [
    "import requests\n",
    "from bs4 import BeautifulSoup"
   ]
  },
  {
   "cell_type": "code",
   "execution_count": 77,
   "id": "1b35f430",
   "metadata": {},
   "outputs": [],
   "source": [
    "dateList = []\n",
    "pollenIntensity = []\n",
    "pollenTypeList = []"
   ]
  },
  {
   "cell_type": "code",
   "execution_count": null,
   "id": "e76088f3",
   "metadata": {},
   "outputs": [
    {
     "name": "stdout",
     "output_type": "stream",
     "text": [
      "Eureka! 1\n",
      " 22 a 28 de Março de 2019\n",
      "Eureka! 2\n",
      " 29 de Março a 4 de Abril de 2019\n",
      "Eureka! 3\n",
      " 5 a 11 de Abril de 2019\n",
      "Eureka! 4\n",
      " 12 a 18 de Abril de 2019\n",
      "Eureka! 5\n",
      " 19 a 25 de Abril de 2019\n",
      "Eureka! 6\n",
      " 26 de Abril a 2 de Maio de 2019\n",
      "Eureka! 7\n",
      " 3 a 9 de Maio de 2019.\n",
      "Eureka! 8\n",
      " 10 a 16 de Maio de 2019.\n",
      "Eureka! 9\n",
      " 17 a 23 de Maio de 2019.\n",
      "Eureka! 10\n",
      " 24 a 30 de Maio de 2019\n",
      "Eureka! 11\n",
      " 31 de Maio a 6 de Junho de 2019\n",
      "Eureka! 12\n",
      " 7 a 13 de Junho de 2019\n",
      "Eureka! 13\n",
      " 14 a 20 de Junho de 2019.\n",
      "Eureka! 14\n",
      " 21 a 27 de Junho de 2019.\n",
      "Eureka! 15\n",
      "1. Responsável pelo tratamento dos dados pessoais\n",
      "we are here\n",
      "Eureka! 16\n",
      "1. Responsável pelo tratamento dos dados pessoais\n",
      "we are here\n",
      "Eureka! 17\n",
      "1. Responsável pelo tratamento dos dados pessoais\n",
      "we are here\n",
      "Eureka! 18\n",
      "1. Responsável pelo tratamento dos dados pessoais\n",
      "we are here\n",
      "Eureka! 19\n",
      "1. Responsável pelo tratamento dos dados pessoais\n",
      "we are here\n",
      "Eureka! 20\n",
      "1. Responsável pelo tratamento dos dados pessoais\n",
      "we are here\n",
      "Eureka! 21\n",
      "1. Responsável pelo tratamento dos dados pessoais\n",
      "we are here\n",
      "Eureka! 22\n",
      "1. Responsável pelo tratamento dos dados pessoais\n",
      "we are here\n",
      "Eureka! 23\n",
      "1. Responsável pelo tratamento dos dados pessoais\n",
      "we are here\n",
      "Eureka! 24\n",
      "1. Responsável pelo tratamento dos dados pessoais\n",
      "we are here\n",
      "Eureka! 25\n",
      "região de Trás-Os-Montes e Alto Douro\n",
      "Eureka! 26\n",
      " 19 a 25 de Março de 2021\n",
      "Eureka! 27\n",
      " 26 de Março a 1 de Abril de 2021\n",
      "Eureka! 28\n",
      " 2 a 8 de Abril de 2021\n",
      "Eureka! 29\n",
      " 9 a 15 de Abril de 2021.\n",
      "Eureka! 30\n",
      " 16 a 22 de Abril de 2021.\n",
      "Eureka! 31\n",
      " 23 a 29 de Abril de 2021.\n",
      "Eureka! 32\n",
      " 30 de Abril a 6 de Maio de 2021\n",
      "Eureka! 33\n",
      " 7 a 13 de Maio de 2021\n",
      "Eureka! 34\n",
      " 14 a 20 de Maio de 2021\n",
      "Eureka! 35\n",
      " 21 a 27 de Maio de 2021\n",
      "Eureka! 36\n",
      " 28 de Maio a 3 de Junho de 2021\n",
      "Eureka! 37\n",
      " 4 a 10 de Junho de 2021\n",
      "Eureka! 38\n",
      " 11 a 17 de Junho de 2021\n",
      "Eureka! 39\n",
      " 18 a 24 de Junho de 2021\n",
      "Eureka! 40\n",
      " 25 de Junho a 1 de Julho de 2021\n",
      "Eureka! 41\n",
      " 2 a 8 de Julho de 2021\n",
      "Eureka! 42\n",
      " 9 a 15 de Julho de 2021\n",
      "Eureka! 43\n",
      " 16 a 22 de Julho de 2021\n",
      "Eureka! 44\n",
      " 23 a 29 de Julho de 2021\n",
      "Eureka! 45\n"
     ]
    }
   ],
   "source": [
    "baselink = \"https://www.rpaerobiologia.com/boletim-polinico/arquivo/2019/edicao-\"\n",
    "baseYear = 2019\n",
    "boletimNumber = 25\n",
    "k = 0\n",
    "for year in range(4):\n",
    "    if year == 1:\n",
    "        continue\n",
    "    for boletim in range(boletimNumber):\n",
    "        link = baselink.replace('2019', str(baseYear + year)).replace('edicao-', 'edicao-' + str(boletim + 1))\n",
    "#         print(link, baselink)\n",
    "#         break\n",
    "        if '200' in str(requests.get(link)):\n",
    "            k += 1\n",
    "            print('Eureka!', k)\n",
    "        else:\n",
    "            continue\n",
    "        f = requests.get(link)\n",
    "        doc = f.text\n",
    "        # Initialize the object with the document\n",
    "        soup = BeautifulSoup(doc, \"html.parser\")\n",
    "\n",
    "        # Get the whole body tag\n",
    "        tag = soup.body\n",
    "        print(tag.find_all('strong')[0].text)\n",
    "        if tag.find_all('strong')[0].text == '1. Responsável pelo tratamento dos dados pessoais':\n",
    "            \n",
    "            print('we are here')\n",
    "            \n",
    "            continue\n",
    "        dateList.append(tag.find_all('strong')[0].text)\n",
    "        for par in tag.find_all('p'):\n",
    "        #     print(par)\n",
    "            if 'região de Lisboa e Setúbal' in par.text:\n",
    "\n",
    "#                 print(par.find_all('strong'))\n",
    "                pollenIntensity.append(par.find_all('strong')[1].text)\n",
    "                for i in range(2, len(par.find_all('strong'))):\n",
    "                    pollenTypeList.append(par.find_all('strong')[i].text)\n",
    "\n",
    "print(dateList)\n",
    "print(pollenIntensity)\n",
    "print(pollenTypeList)"
   ]
  },
  {
   "cell_type": "code",
   "execution_count": 61,
   "id": "5aacfbca",
   "metadata": {},
   "outputs": [],
   "source": [
    "# f = requests.get('https://www.rpaerobiologia.com/boletim-polinico/arquivo/2019/edicao-5000')\n",
    "# '200' in str(f)"
   ]
  },
  {
   "cell_type": "code",
   "execution_count": 44,
   "id": "45e007fc",
   "metadata": {},
   "outputs": [
    {
     "name": "stdout",
     "output_type": "stream",
     "text": [
      "[<strong>região de Lisboa e Setúbal</strong>, <strong>elevados</strong>, <strong>gramíneas </strong>, <strong>parietária, </strong>, <strong>castanheiro</strong>]\n"
     ]
    }
   ],
   "source": [
    "# # link = \"https://www.rpaerobiologia.com/boletim-polinico/arquivo/2019/edicao-13\"\n",
    "# f = requests.get(link)\n",
    "# # print(f.text)\n",
    "# # # type(f.text)\n",
    "# doc = f.text\n",
    "# # Initialize the object with the document\n",
    "# soup = BeautifulSoup(doc, \"html.parser\")\n",
    " \n",
    "# # Get the whole body tag\n",
    "# tag = soup.body\n",
    "\n",
    "# dateList.append(tag.find_all('strong')[0].text)\n",
    "# for par in tag.find_all('p'):\n",
    "# #     print(par)\n",
    "#     if 'região de Lisboa e Setúbal' in par.text:\n",
    "        \n",
    "#         print(par.find_all('strong'))\n",
    "#         pollenIntensity.append(par.find_all('strong')[1].text)\n",
    "#         for i in range(2, len(par.find_all('strong'))):\n",
    "#             pollenTypeList.append(par.find_all('strong')[i].text)\n",
    "        \n",
    "# #     if par.find_all('p'):\n",
    "# #         print(par.text)\n",
    "# #         break\n",
    "# # tag.find_all('strong')"
   ]
  },
  {
   "cell_type": "code",
   "execution_count": 45,
   "id": "db82f83a",
   "metadata": {},
   "outputs": [
    {
     "name": "stdout",
     "output_type": "stream",
     "text": [
      "[' 14 a 20 de Junho de 2019.']\n",
      "['elevados']\n",
      "['gramíneas ', 'parietária, ', 'castanheiro']\n"
     ]
    }
   ],
   "source": [
    "print(dateList)\n",
    "print(pollenIntensity)\n",
    "print(pollenTypeList)"
   ]
  },
  {
   "cell_type": "code",
   "execution_count": null,
   "id": "4d31eff7",
   "metadata": {},
   "outputs": [],
   "source": []
  }
 ],
 "metadata": {
  "kernelspec": {
   "display_name": "Python 3 (ipykernel)",
   "language": "python",
   "name": "python3"
  },
  "language_info": {
   "codemirror_mode": {
    "name": "ipython",
    "version": 3
   },
   "file_extension": ".py",
   "mimetype": "text/x-python",
   "name": "python",
   "nbconvert_exporter": "python",
   "pygments_lexer": "ipython3",
   "version": "3.8.10"
  }
 },
 "nbformat": 4,
 "nbformat_minor": 5
}
